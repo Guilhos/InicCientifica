{
 "cells": [
  {
   "cell_type": "code",
   "execution_count": null,
   "id": "912ecad7",
   "metadata": {},
   "outputs": [],
   "source": [
    "import numpy as np\n",
    "import matplotlib.pyplot as plt\n",
    "import cvxpy as cp\n",
    "from scipy.linalg import block_diag\n",
    "import os\n",
    "output_dir = \"MPC_to_NN/MPCvsNN - Sistema Compressão/output_figures\"\n",
    "os.makedirs(output_dir, exist_ok=True)"
   ]
  },
  {
   "cell_type": "markdown",
   "id": "83e71f32",
   "metadata": {},
   "source": [
    "## Inicializando MPC\n",
    "\n",
    "### Exemplo próprio, sistema de compressão isotérmico Dreizer (1986)\n",
    "\n",
    "$$\n",
    "\\begin{bmatrix}\n",
    "\\dot{m}_{k+1} \\\\\n",
    "P_{Pk+1}\n",
    "\\end{bmatrix}\n",
    "=\n",
    "\\begin{bmatrix}\n",
    "-8.83\\times 10^{-1} & -3.72 \\times 10^{-1} \\\\\n",
    "-4.89 \\times 10^{-2} & 8.20 \\times 10^{1}\n",
    "\\end{bmatrix}\n",
    "\\begin{bmatrix}\n",
    "\\dot{m}_{k} \\\\\n",
    "P_{Pk}\n",
    "\\end{bmatrix}\n",
    "+\n",
    "\\begin{bmatrix}\n",
    "1.20 & 7.14 \\times 10^{-5}\\\\\n",
    "8.73 \\times 10^{-1} & 2.93 \\times 10{-5}\n",
    "\\end{bmatrix}\n",
    "\\begin{bmatrix}\n",
    "\\alpha_k \\\\\n",
    "N_k\n",
    "\\end{bmatrix}\n",
    "$$\n",
    "\n",
    "O horizonte $N = 12$ e a ação de controle deve permanecer em $[35\\%, 450Hz]^\\top \\leq \\mathbf{u} \\leq [65\\%, 833Hz]^\\top$, logo $\\mathbf{G} = I_m \\otimes \\begin{bmatrix}0 & 1\\end{bmatrix}^\\top$, $w = \\begin{bmatrix}1 & 1 & \\dots & 1 & 1\\end{bmatrix}^\\top$ e $S_u = 0$. Os parâmetros da função de custo quadrático do MPC são:"
   ]
  },
  {
   "cell_type": "code",
   "execution_count": null,
   "id": "75e2ec1b",
   "metadata": {},
   "outputs": [],
   "source": [
    "n = 12\n",
    "nx = 2\n",
    "scaling = 1\n",
    "\n",
    "A = np.array([-8.83e-1, -3.72e-1],[-4.89e10-2,8.29e1])\n",
    "B = np.array([1.20, 7.14e-5],[8.73e-1, 2.93e-5])\n",
    "N = "
   ]
  }
 ],
 "metadata": {
  "kernelspec": {
   "display_name": "iniccientifica",
   "language": "python",
   "name": "python3"
  },
  "language_info": {
   "name": "python",
   "version": "3.13.3"
  }
 },
 "nbformat": 4,
 "nbformat_minor": 5
}
