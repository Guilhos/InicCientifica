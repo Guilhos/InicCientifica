{
 "cells": [
  {
   "cell_type": "code",
   "execution_count": 1,
   "id": "912ecad7",
   "metadata": {},
   "outputs": [],
   "source": [
    "import numpy as np\n",
    "import matplotlib.pyplot as plt\n",
    "import cvxpy as cp\n",
    "from scipy.linalg import block_diag\n",
    "import os\n",
    "output_dir = \"MPC_to_NN/MPCvsNN - Sistema Compressão/output_figures\"\n",
    "os.makedirs(output_dir, exist_ok=True)"
   ]
  },
  {
   "cell_type": "markdown",
   "id": "83e71f32",
   "metadata": {},
   "source": [
    "## Inicializando MPC\n",
    "\n",
    "### Exemplo próprio, sistema de compressão isotérmico Dreizer (1986)\n",
    "\n",
    "$$\n",
    "\\begin{bmatrix}\n",
    "\\dot{m}_{k+1} \\\\\n",
    "P_{Pk+1}\n",
    "\\end{bmatrix}\n",
    "=\n",
    "\\begin{bmatrix}\n",
    "-8.83\\times 10^{-1} & -3.72 \\times 10^{-1} \\\\\n",
    "-4.89 \\times 10^{-2} & 8.20 \\times 10^{1}\n",
    "\\end{bmatrix}\n",
    "\\begin{bmatrix}\n",
    "\\dot{m}_{k} \\\\\n",
    "P_{Pk}\n",
    "\\end{bmatrix}\n",
    "+\n",
    "\\begin{bmatrix}\n",
    "1.20 & 7.14 \\times 10^{-5}\\\\\n",
    "8.73 \\times 10^{-1} & 2.93 \\times 10{-5}\n",
    "\\end{bmatrix}\n",
    "\\begin{bmatrix}\n",
    "\\alpha_k \\\\\n",
    "N_k\n",
    "\\end{bmatrix}\n",
    "$$\n",
    "\n",
    "O horizonte $N = 12$ e a ação de controle deve permanecer em $[35\\%, 450Hz]^\\top \\leq \\mathbf{u} \\leq [65\\%, 833Hz]^\\top$, logo $\\mathbf{G} = I_m \\otimes \\begin{bmatrix}0 & 1\\end{bmatrix}^\\top$, $w = \\begin{bmatrix}1 & 1 & \\dots & 1 & 1\\end{bmatrix}^\\top$ e $S_u = 0$. Os parâmetros da função de custo quadrático do MPC são:"
   ]
  },
  {
   "cell_type": "code",
   "execution_count": 4,
   "id": "75e2ec1b",
   "metadata": {},
   "outputs": [
    {
     "ename": "ValueError",
     "evalue": "setting an array element with a sequence. The requested array has an inhomogeneous shape after 2 dimensions. The detected shape was (2, 2) + inhomogeneous part.",
     "output_type": "error",
     "traceback": [
      "\u001b[31m---------------------------------------------------------------------------\u001b[39m",
      "\u001b[31mValueError\u001b[39m                                Traceback (most recent call last)",
      "\u001b[36mCell\u001b[39m\u001b[36m \u001b[39m\u001b[32mIn[4]\u001b[39m\u001b[32m, line 9\u001b[39m\n\u001b[32m      6\u001b[39m A = np.array([[-\u001b[32m8.83e-1\u001b[39m, -\u001b[32m3.72e-1\u001b[39m],[-\u001b[32m4.89e-2\u001b[39m,\u001b[32m8.29e1\u001b[39m]])\n\u001b[32m      7\u001b[39m B = np.array([[\u001b[32m1.20\u001b[39m, \u001b[32m7.14e-5\u001b[39m],[\u001b[32m8.73e-1\u001b[39m, \u001b[32m2.93e-5\u001b[39m]])\n\u001b[32m----> \u001b[39m\u001b[32m9\u001b[39m A_ = \u001b[43mnp\u001b[49m\u001b[43m.\u001b[49m\u001b[43marray\u001b[49m\u001b[43m(\u001b[49m\u001b[43m[\u001b[49m\u001b[43m[\u001b[49m\u001b[43mA\u001b[49m\u001b[43m,\u001b[49m\u001b[43mB\u001b[49m\u001b[43m]\u001b[49m\u001b[43m,\u001b[49m\u001b[43m[\u001b[49m\u001b[43mnp\u001b[49m\u001b[43m.\u001b[49m\u001b[43mzeros\u001b[49m\u001b[43m(\u001b[49m\u001b[43m(\u001b[49m\u001b[43mnx\u001b[49m\u001b[43m,\u001b[49m\u001b[43mnx\u001b[49m\u001b[43m)\u001b[49m\u001b[43m)\u001b[49m\u001b[43m,\u001b[49m\u001b[43m \u001b[49m\u001b[43mnp\u001b[49m\u001b[43m.\u001b[49m\u001b[43meye\u001b[49m\u001b[43m(\u001b[49m\u001b[43mnx\u001b[49m\u001b[43m)\u001b[49m\u001b[43m]\u001b[49m\u001b[43m]\u001b[49m\u001b[43m)\u001b[49m\n\u001b[32m     10\u001b[39m B_ = np.array([np.zeros((nu,nu)), np.eye(nu)])\n\u001b[32m     12\u001b[39m Q = np.array([\u001b[32m6e-3\u001b[39m, \u001b[32m6e-4\u001b[39m])\n",
      "\u001b[31mValueError\u001b[39m: setting an array element with a sequence. The requested array has an inhomogeneous shape after 2 dimensions. The detected shape was (2, 2) + inhomogeneous part."
     ]
    }
   ],
   "source": [
    "p = 12\n",
    "nx = 2*p\n",
    "nu = 2*p\n",
    "scaling = 1\n",
    "\n",
    "A = np.array([[-8.83e-1, -3.72e-1],[-4.89e-2,8.29e1]])\n",
    "B = np.array([[1.20, 7.14e-5],[8.73e-1, 2.93e-5]])\n",
    "\n",
    "A_ = np.array([[A,B],[np.zeros((nx,nx)), np.eye(nx)]])\n",
    "B_ = np.array([np.zeros((nu,nu)), np.eye(nu)])\n",
    "\n",
    "Q = np.array([6e-3, 6e-4])\n",
    "R = np.array([4e-5, 2e-12])\n",
    "\n",
    "C = np.eye(2)\n",
    "C_ = np.array([C, np.zeros((2,2))])\n",
    "Cu = np.array([np.zeros((2,2)), np.eye(2)])\n",
    "\n",
    "# Psi\n",
    "psi = np.array([[C_ @ A_]])\n",
    "for i in range(p-1):\n",
    "    psi = np.vstack((psi, psi[-1] @ A_))"
   ]
  }
 ],
 "metadata": {
  "kernelspec": {
   "display_name": "InicCientifica (3.13.5)",
   "language": "python",
   "name": "python3"
  },
  "language_info": {
   "codemirror_mode": {
    "name": "ipython",
    "version": 3
   },
   "file_extension": ".py",
   "mimetype": "text/x-python",
   "name": "python",
   "nbconvert_exporter": "python",
   "pygments_lexer": "ipython3",
   "version": "3.13.5"
  }
 },
 "nbformat": 4,
 "nbformat_minor": 5
}
